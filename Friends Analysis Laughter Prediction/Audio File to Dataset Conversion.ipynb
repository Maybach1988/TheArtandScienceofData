{
 "cells": [
  {
   "cell_type": "code",
   "execution_count": null,
   "metadata": {},
   "outputs": [],
   "source": [
    "import numpy as np\n",
    "import pandas as pd\n",
    "import librosa\n",
    "import os\n",
    "import re\n",
    "import requests\n",
    "import urllib\n",
    "import io\n",
    "import gzip\n",
    "import warnings\n",
    "import time\n",
    "warnings.filterwarnings('ignore')"
   ]
  },
  {
   "cell_type": "code",
   "execution_count": null,
   "metadata": {},
   "outputs": [],
   "source": [
    "def create_mfcc(path, offset=0, duration=1, n_mfcc=40):\n",
    "    start_time = time.time()    \n",
    "    audio_array = librosa.load(path, offset=offset, duration=duration)[0]\n",
    "    audio_array = audio_array.reshape(duration, -1)\n",
    "    mfcc = np.array([np.mean(librosa.feature.mfcc(ary, n_mfcc=n_mfcc), axis=1) for ary in audio_array])\n",
    "    episode=re.search('E\\d{2}',url).group(0)\n",
    "    season=re.search('S\\d{2}',url).group(0)\n",
    "    duration=np.arange(0,duration,1).reshape(duration,-1)\n",
    "    extras = np.full((mfcc.shape[0], 2), (season, episode))\n",
    "    elapsed_time = int(time.time() - start_time)\n",
    "    print('{:02d}:{:02d}:{:02d}'.format(elapsed_time // 3600, (elapsed_time % 3600 // 60), elapsed_time % 60))\n",
    "    return np.hstack((mfcc, extras,duration))"
   ]
  },
  {
   "cell_type": "code",
   "execution_count": null,
   "metadata": {},
   "outputs": [],
   "source": [
    "list_of_urls=['FRIENDS.S02E'+\"{:02d}\".format(i)+'.480p.mkv' for i in range(1,25,1)]\n",
    "list_of_urls"
   ]
  },
  {
   "cell_type": "code",
   "execution_count": null,
   "metadata": {},
   "outputs": [],
   "source": [
    "season_two_audio=[]\n",
    "for url in list_of_urls:\n",
    "    Y, sample_rate=librosa.load(url,res_type='kaiser_fast')\n",
    "    print('Reading File for Episode ' + re.search('E\\d{2}',url).group(0)+'...')\n",
    "    duration=(np.floor(len(Y)/sample_rate))\n",
    "    result=create_mfcc(url,duration=int(duration))\n",
    "    season_two_audio.append(result)\n"
   ]
  },
  {
   "cell_type": "code",
   "execution_count": null,
   "metadata": {},
   "outputs": [],
   "source": [
    "pd.DataFrame(np.vstack(season_two_audio)).to_csv('season_two_audio.csv')\n"
   ]
  }
 ],
 "metadata": {
  "kernelspec": {
   "display_name": "Python 3",
   "language": "python",
   "name": "python3"
  },
  "language_info": {
   "codemirror_mode": {
    "name": "ipython",
    "version": 3
   },
   "file_extension": ".py",
   "mimetype": "text/x-python",
   "name": "python",
   "nbconvert_exporter": "python",
   "pygments_lexer": "ipython3",
   "version": "3.7.3"
  }
 },
 "nbformat": 4,
 "nbformat_minor": 2
}
